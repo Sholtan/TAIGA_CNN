{
 "cells": [
  {
   "cell_type": "code",
   "execution_count": 3,
   "id": "b49aad80",
   "metadata": {
    "tags": []
   },
   "outputs": [],
   "source": [
    "import numpy as np\n",
    "import torch\n",
    "import matplotlib.pyplot as plt\n",
    "\n",
    "import corsikadata\n",
    "import simple_conv_net\n",
    "from tqdm.notebook import tqdm as tqdm_notebook"
   ]
  },
  {
   "cell_type": "code",
   "execution_count": 4,
   "id": "e31b85d1",
   "metadata": {},
   "outputs": [
    {
     "name": "stdout",
     "output_type": "stream",
     "text": [
      "number of events in file: 122850\n",
      "after size cut: 47109\n",
      "data shape (47109, 27, 27)\n",
      "labels shape (47109,)\n",
      "labels[:20] [1, 1, 1, 1, 1, 1, 1, 1, 1, 1, 1, 1, 1, 1, 1, 1, 1, 1, 1, 1]\n",
      "loading files done\n",
      "\n",
      "\n",
      "number of events in file: 132850\n",
      "after size cut: 41844\n",
      "data shape (41365, 27, 27)\n",
      "labels shape (41365,)\n",
      "labels[:20] [0, 0, 0, 0, 0, 0, 0, 0, 0, 0, 0, 0, 0, 0, 0, 0, 0, 0, 0, 0]\n",
      "loading files done\n",
      "\n",
      "\n"
     ]
    }
   ],
   "source": [
    "gamma_dataset = corsikadata.CorsikaData()\n",
    "gamma_dataset.load(\"taiga607_st2b_0\")\n",
    "\n",
    "# load(gamma_dataset, \"taiga607_st2b_0\")\n",
    "\n",
    "proton_dataset = corsikadata.CorsikaData()\n",
    "proton_dataset.load(\"taiga623_st2b_0\");"
   ]
  },
  {
   "cell_type": "code",
   "execution_count": 5,
   "id": "3663a945",
   "metadata": {},
   "outputs": [],
   "source": [
    "input_data = np.concatenate((gamma_dataset.data, proton_dataset.data), axis=0)\n",
    "input_labels = np.concatenate((gamma_dataset.labels, proton_dataset.labels), axis=0)\n",
    "input_data = np.expand_dims(input_data, axis = 1)"
   ]
  },
  {
   "cell_type": "code",
   "execution_count": 6,
   "id": "81292275",
   "metadata": {},
   "outputs": [],
   "source": [
    "input_data = np.float32(input_data)\n",
    "input_labels = np.int_(input_labels)"
   ]
  },
  {
   "cell_type": "code",
   "execution_count": 7,
   "id": "87ec88d0",
   "metadata": {},
   "outputs": [],
   "source": [
    "rng = np.random.default_rng(42)\n",
    "permut = rng.permutation(len(input_data))\n",
    "input_data = input_data[permut]\n",
    "input_labels = input_labels[permut]\n",
    "\n",
    "train_portion = int(0.8 * len(input_data))\n",
    "\n",
    "train_data = input_data[:train_portion]\n",
    "train_labels = input_labels[:train_portion]\n",
    "test_data = input_data[train_portion:-1]\n",
    "test_labels = input_labels[train_portion:-1]"
   ]
  },
  {
   "cell_type": "code",
   "execution_count": 8,
   "id": "ca9c4a63",
   "metadata": {},
   "outputs": [],
   "source": [
    "train_loader = torch.utils.data.DataLoader(train_data, batch_size=100, shuffle=False, num_workers=2)\n",
    "train_labels_loader = torch.utils.data.DataLoader(train_labels, batch_size=100, shuffle=False, num_workers=2)\n",
    "\n",
    "test_loader = torch.utils.data.DataLoader(test_data, batch_size=100, shuffle=False, num_workers=2)\n",
    "test_labels_loader = torch.utils.data.DataLoader(test_labels, batch_size=100, shuffle=False, num_workers=2)"
   ]
  },
  {
   "cell_type": "code",
   "execution_count": 9,
   "id": "d3b2edb9",
   "metadata": {},
   "outputs": [
    {
     "data": {
      "text/plain": [
       "(70779, 1, 27, 27)"
      ]
     },
     "execution_count": 9,
     "metadata": {},
     "output_type": "execute_result"
    }
   ],
   "source": [
    "train_data.shape"
   ]
  },
  {
   "cell_type": "code",
   "execution_count": 10,
   "id": "ebb115a4",
   "metadata": {},
   "outputs": [
    {
     "data": {
      "text/plain": [
       "(70779, 1, 27, 27)"
      ]
     },
     "execution_count": 10,
     "metadata": {},
     "output_type": "execute_result"
    }
   ],
   "source": [
    "train_loader.dataset.shape"
   ]
  },
  {
   "cell_type": "code",
   "execution_count": 11,
   "id": "d6ae6e47",
   "metadata": {},
   "outputs": [],
   "source": [
    "def accuracy_on_test(model, dataloader, labelsloader):\n",
    "    correct = 0\n",
    "    for data, labels in zip(dataloader, labelsloader):\n",
    "        y_pred = net(data.to(model.device))\n",
    "        y_pred = y_pred.reshape(len(labels))\n",
    "        y_pred = y_pred>0.5\n",
    "        c = y_pred.cpu()==labels\n",
    "        correct += c.sum()\n",
    "    return correct/dataloader.dataset.shape[0]"
   ]
  },
  {
   "cell_type": "code",
   "execution_count": 12,
   "id": "60df89bb",
   "metadata": {},
   "outputs": [
    {
     "name": "stdout",
     "output_type": "stream",
     "text": [
      "CNN will run on device: cuda\n"
     ]
    }
   ],
   "source": [
    "net = simple_conv_net.SimpleConvNet()\n",
    "losses = []\n",
    "accuracies = []"
   ]
  },
  {
   "cell_type": "code",
   "execution_count": 13,
   "id": "5c6a2806",
   "metadata": {},
   "outputs": [
    {
     "data": {
      "text/plain": [
       "<Figure size 1000x700 with 0 Axes>"
      ]
     },
     "metadata": {},
     "output_type": "display_data"
    }
   ],
   "source": [
    "fig = plt.figure(figsize=(10,7))"
   ]
  },
  {
   "cell_type": "code",
   "execution_count": 14,
   "id": "b40679b0",
   "metadata": {},
   "outputs": [
    {
     "data": {
      "application/vnd.jupyter.widget-view+json": {
       "model_id": "6aee8ba1986b4a93b26e8e9aafa6dfa7",
       "version_major": 2,
       "version_minor": 0
      },
      "text/plain": [
       "  0%|          | 0/10 [00:00<?, ?it/s]"
      ]
     },
     "metadata": {},
     "output_type": "display_data"
    },
    {
     "name": "stdout",
     "output_type": "stream",
     "text": [
      "[1,   300] loss: 1.680\n",
      "[1,   600] loss: 1.258\n"
     ]
    },
    {
     "data": {
      "image/png": "[encoded data removed]",
      "text/plain": [
       "<Figure size 1000x700 with 1 Axes>"
      ]
     },
     "metadata": {},
     "output_type": "display_data"
    },
    {
     "name": "stdout",
     "output_type": "stream",
     "text": [
      "[2,   300] loss: 0.926\n",
      "[2,   600] loss: 0.721\n",
      "[3,   300] loss: 0.496\n",
      "[3,   600] loss: 0.512\n",
      "[4,   300] loss: 0.381\n",
      "[4,   600] loss: 0.364\n",
      "[5,   300] loss: 0.302\n",
      "[5,   600] loss: 0.212\n",
      "[6,   300] loss: 0.320\n",
      "[6,   600] loss: 0.206\n",
      "[7,   300] loss: 0.219\n",
      "[7,   600] loss: 0.158\n",
      "[8,   300] loss: 0.200\n",
      "[8,   600] loss: 0.128\n",
      "[9,   300] loss: 0.161\n",
      "[9,   600] loss: 0.127\n",
      "[10,   300] loss: 0.182\n",
      "[10,   600] loss: 0.131\n",
      "Обучение закончено\n"
     ]
    }
   ],
   "source": [
    "fig = plt.figure(figsize=(10,7))\n",
    "ax = fig.add_subplot(1, 1, 1)\n",
    "\n",
    "# итерируемся\n",
    "for epoch in tqdm_notebook(range(10)):\n",
    "    running_loss = 0.0\n",
    "    i = 0\n",
    "    for data, labels in zip(train_loader, train_labels_loader):\n",
    "        net.my_optimizer.zero_grad()\n",
    "        \n",
    "        y_pred = net(data.to(net.device))\n",
    "        y_pred = y_pred.reshape(len(labels))\n",
    "        \n",
    "        labels = labels.to(torch.float32)   \n",
    "        y_pred = y_pred.to(torch.float32)   \n",
    "        \n",
    "        loss = net.my_loss_fn(y_pred, labels.to(net.device))\n",
    "        loss.backward()\n",
    "        net.my_optimizer.step()\n",
    "        \n",
    "        running_loss += loss.item()\n",
    "        if i % 300 == 299:\n",
    "            print('[%d, %5d] loss: %.3f' %\n",
    "                  (epoch + 1, i + 1, running_loss / 100))\n",
    "            losses.append(running_loss)\n",
    "            accuracies.append(accuracy_on_test(net, test_loader, test_labels_loader))\n",
    "            running_loss = 0.0\n",
    "        i+=1\n",
    "    ax.clear()\n",
    "    ax.plot(np.arange(len(losses)), losses)\n",
    "    plt.show()\n",
    "print('Обучение закончено')"
   ]
  },
  {
   "cell_type": "code",
   "execution_count": 15,
   "id": "bb07925b",
   "metadata": {},
   "outputs": [
    {
     "data": {
      "text/plain": [
       "tensor(0.9926)"
      ]
     },
     "execution_count": 15,
     "metadata": {},
     "output_type": "execute_result"
    }
   ],
   "source": [
    "accuracy_on_test(net, train_loader, train_labels_loader)"
   ]
  },
  {
   "cell_type": "code",
   "execution_count": null,
   "id": "9fa65797",
   "metadata": {},
   "outputs": [],
   "source": []
  },
  {
   "cell_type": "code",
   "execution_count": null,
   "id": "9e5ad421",
   "metadata": {},
   "outputs": [],
   "source": []
  },
  {
   "cell_type": "code",
   "execution_count": null,
   "id": "27089fa2",
   "metadata": {},
   "outputs": [],
   "source": []
  },
  {
   "cell_type": "code",
   "execution_count": null,
   "id": "51960d14",
   "metadata": {},
   "outputs": [],
   "source": []
  },
  {
   "cell_type": "code",
   "execution_count": null,
   "id": "5d58b992",
   "metadata": {},
   "outputs": [],
   "source": []
  },
  {
   "cell_type": "code",
   "execution_count": null,
   "id": "9af1399b",
   "metadata": {},
   "outputs": [],
   "source": []
  },
  {
   "cell_type": "code",
   "execution_count": null,
   "id": "5ff0c228",
   "metadata": {},
   "outputs": [],
   "source": []
  },
  {
   "cell_type": "code",
   "execution_count": null,
   "id": "e86974ed",
   "metadata": {},
   "outputs": [],
   "source": []
  },
  {
   "cell_type": "code",
   "execution_count": null,
   "id": "3d65c81e",
   "metadata": {},
   "outputs": [],
   "source": []
  },
  {
   "cell_type": "code",
   "execution_count": null,
   "id": "736ff37e",
   "metadata": {},
   "outputs": [],
   "source": []
  },
  {
   "cell_type": "code",
   "execution_count": null,
   "id": "6667d0ba",
   "metadata": {},
   "outputs": [],
   "source": []
  },
  {
   "cell_type": "code",
   "execution_count": null,
   "id": "67242237",
   "metadata": {},
   "outputs": [],
   "source": []
  }
 ],
 "metadata": {
  "kernelspec": {
   "display_name": "Python 3 (ipykernel)",
   "language": "python",
   "name": "python3"
  },
  "language_info": {
   "codemirror_mode": {
    "name": "ipython",
    "version": 3
   },
   "file_extension": ".py",
   "mimetype": "text/x-python",
   "name": "python",
   "nbconvert_exporter": "python",
   "pygments_lexer": "ipython3",
   "version": "3.11.4"
  }
 },
 "nbformat": 4,
 "nbformat_minor": 5
}
